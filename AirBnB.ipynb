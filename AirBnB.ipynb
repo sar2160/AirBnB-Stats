{
 "cells": [
  {
   "cell_type": "code",
   "execution_count": 29,
   "metadata": {
    "collapsed": false
   },
   "outputs": [],
   "source": [
    "import pandas as pd\n",
    "import datetime as dt\n",
    "import numpy as np\n",
    "import matplotlib.pyplot as plt\n",
    "\n",
    "\n",
    "%matplotlib inline\n",
    "from plotly.offline import download_plotlyjs, init_notebook_mode, iplot\n",
    "from plotly import graph_objs as go\n",
    "import cufflinks as cf\n",
    "\n",
    "%qtconsole\n",
    "cf.go_offline()\n",
    "\n",
    "init_notebook_mode()\n",
    "\n",
    "## no more deprecation warnings please\n",
    "import warnings\n",
    "warnings.filterwarnings('ignore')"
   ]
  },
  {
   "cell_type": "markdown",
   "metadata": {},
   "source": [
    "<h1> Data Munging! </h1>\n",
    "\n",
    "All data is a static snapshot sourced from insideairbnb.com "
   ]
  },
  {
   "cell_type": "code",
   "execution_count": 30,
   "metadata": {
    "collapsed": false
   },
   "outputs": [
    {
     "data": {
      "text/html": [
       "<div>\n",
       "<table border=\"1\" class=\"dataframe\">\n",
       "  <thead>\n",
       "    <tr style=\"text-align: right;\">\n",
       "      <th></th>\n",
       "      <th>id</th>\n",
       "      <th>name</th>\n",
       "      <th>host_id</th>\n",
       "      <th>host_name</th>\n",
       "      <th>neighbourhood_group</th>\n",
       "      <th>neighbourhood</th>\n",
       "      <th>latitude</th>\n",
       "      <th>longitude</th>\n",
       "      <th>room_type</th>\n",
       "      <th>price</th>\n",
       "      <th>minimum_nights</th>\n",
       "      <th>number_of_reviews</th>\n",
       "      <th>last_review</th>\n",
       "      <th>reviews_per_month</th>\n",
       "      <th>calculated_host_listings_count</th>\n",
       "      <th>availability_365</th>\n",
       "    </tr>\n",
       "  </thead>\n",
       "  <tbody>\n",
       "    <tr>\n",
       "      <th>0</th>\n",
       "      <td>6627449</td>\n",
       "      <td>Large 1 BDRM in Great location</td>\n",
       "      <td>13886510</td>\n",
       "      <td>Arlene</td>\n",
       "      <td>Bronx</td>\n",
       "      <td>City Island</td>\n",
       "      <td>40.849775</td>\n",
       "      <td>-73.786609</td>\n",
       "      <td>Entire home/apt</td>\n",
       "      <td>125</td>\n",
       "      <td>3</td>\n",
       "      <td>8</td>\n",
       "      <td>2016-01-05</td>\n",
       "      <td>1.12</td>\n",
       "      <td>1</td>\n",
       "      <td>337</td>\n",
       "    </tr>\n",
       "    <tr>\n",
       "      <th>1</th>\n",
       "      <td>7949480</td>\n",
       "      <td>City Island Sanctuary Sunny BR &amp; BA</td>\n",
       "      <td>119445</td>\n",
       "      <td>Linda &amp; Didier</td>\n",
       "      <td>Bronx</td>\n",
       "      <td>City Island</td>\n",
       "      <td>40.852054</td>\n",
       "      <td>-73.788680</td>\n",
       "      <td>Private room</td>\n",
       "      <td>68</td>\n",
       "      <td>1</td>\n",
       "      <td>1</td>\n",
       "      <td>2016-01-18</td>\n",
       "      <td>1.00</td>\n",
       "      <td>1</td>\n",
       "      <td>349</td>\n",
       "    </tr>\n",
       "    <tr>\n",
       "      <th>2</th>\n",
       "      <td>1886820</td>\n",
       "      <td>Quaint City Island Community.</td>\n",
       "      <td>9815788</td>\n",
       "      <td>Steve</td>\n",
       "      <td>Bronx</td>\n",
       "      <td>City Island</td>\n",
       "      <td>40.841144</td>\n",
       "      <td>-73.783052</td>\n",
       "      <td>Entire home/apt</td>\n",
       "      <td>300</td>\n",
       "      <td>7</td>\n",
       "      <td>0</td>\n",
       "      <td>NaN</td>\n",
       "      <td>NaN</td>\n",
       "      <td>1</td>\n",
       "      <td>365</td>\n",
       "    </tr>\n",
       "    <tr>\n",
       "      <th>3</th>\n",
       "      <td>5557381</td>\n",
       "      <td>Quaint City Island Home</td>\n",
       "      <td>28811542</td>\n",
       "      <td>Phoebe</td>\n",
       "      <td>Bronx</td>\n",
       "      <td>City Island</td>\n",
       "      <td>40.850024</td>\n",
       "      <td>-73.789328</td>\n",
       "      <td>Private room</td>\n",
       "      <td>49</td>\n",
       "      <td>1</td>\n",
       "      <td>41</td>\n",
       "      <td>2016-01-29</td>\n",
       "      <td>4.84</td>\n",
       "      <td>1</td>\n",
       "      <td>344</td>\n",
       "    </tr>\n",
       "    <tr>\n",
       "      <th>4</th>\n",
       "      <td>9019702</td>\n",
       "      <td>City Island Sugar Shack</td>\n",
       "      <td>46642112</td>\n",
       "      <td>Jody</td>\n",
       "      <td>Bronx</td>\n",
       "      <td>City Island</td>\n",
       "      <td>40.847917</td>\n",
       "      <td>-73.787731</td>\n",
       "      <td>Entire home/apt</td>\n",
       "      <td>200</td>\n",
       "      <td>1</td>\n",
       "      <td>0</td>\n",
       "      <td>NaN</td>\n",
       "      <td>NaN</td>\n",
       "      <td>1</td>\n",
       "      <td>365</td>\n",
       "    </tr>\n",
       "  </tbody>\n",
       "</table>\n",
       "</div>"
      ],
      "text/plain": [
       "        id                                 name   host_id       host_name  \\\n",
       "0  6627449       Large 1 BDRM in Great location  13886510          Arlene   \n",
       "1  7949480  City Island Sanctuary Sunny BR & BA    119445  Linda & Didier   \n",
       "2  1886820       Quaint City Island Community.    9815788           Steve   \n",
       "3  5557381              Quaint City Island Home  28811542          Phoebe   \n",
       "4  9019702              City Island Sugar Shack  46642112            Jody   \n",
       "\n",
       "  neighbourhood_group neighbourhood   latitude  longitude        room_type  \\\n",
       "0               Bronx   City Island  40.849775 -73.786609  Entire home/apt   \n",
       "1               Bronx   City Island  40.852054 -73.788680     Private room   \n",
       "2               Bronx   City Island  40.841144 -73.783052  Entire home/apt   \n",
       "3               Bronx   City Island  40.850024 -73.789328     Private room   \n",
       "4               Bronx   City Island  40.847917 -73.787731  Entire home/apt   \n",
       "\n",
       "   price  minimum_nights  number_of_reviews last_review  reviews_per_month  \\\n",
       "0    125               3                  8  2016-01-05               1.12   \n",
       "1     68               1                  1  2016-01-18               1.00   \n",
       "2    300               7                  0         NaN                NaN   \n",
       "3     49               1                 41  2016-01-29               4.84   \n",
       "4    200               1                  0         NaN                NaN   \n",
       "\n",
       "   calculated_host_listings_count  availability_365  \n",
       "0                               1               337  \n",
       "1                               1               349  \n",
       "2                               1               365  \n",
       "3                               1               344  \n",
       "4                               1               365  "
      ]
     },
     "execution_count": 30,
     "metadata": {},
     "output_type": "execute_result"
    }
   ],
   "source": [
    "Listings = pd.read_csv('data/listings.csv')\n",
    "Listings.head()"
   ]
  },
  {
   "cell_type": "code",
   "execution_count": 31,
   "metadata": {
    "collapsed": false
   },
   "outputs": [
    {
     "name": "stdout",
     "output_type": "stream",
     "text": [
      "2008-10-06\n",
      "2016-02-02\n"
     ]
    },
    {
     "data": {
      "text/html": [
       "<div>\n",
       "<table border=\"1\" class=\"dataframe\">\n",
       "  <thead>\n",
       "    <tr style=\"text-align: right;\">\n",
       "      <th></th>\n",
       "      <th>listing_id</th>\n",
       "      <th>date</th>\n",
       "    </tr>\n",
       "  </thead>\n",
       "  <tbody>\n",
       "    <tr>\n",
       "      <th>0</th>\n",
       "      <td>6987560</td>\n",
       "      <td>2015-06-29</td>\n",
       "    </tr>\n",
       "    <tr>\n",
       "      <th>1</th>\n",
       "      <td>6987560</td>\n",
       "      <td>2015-10-12</td>\n",
       "    </tr>\n",
       "    <tr>\n",
       "      <th>2</th>\n",
       "      <td>7652181</td>\n",
       "      <td>2015-08-17</td>\n",
       "    </tr>\n",
       "    <tr>\n",
       "      <th>3</th>\n",
       "      <td>7652181</td>\n",
       "      <td>2015-10-25</td>\n",
       "    </tr>\n",
       "    <tr>\n",
       "      <th>4</th>\n",
       "      <td>7652181</td>\n",
       "      <td>2015-10-30</td>\n",
       "    </tr>\n",
       "  </tbody>\n",
       "</table>\n",
       "</div>"
      ],
      "text/plain": [
       "   listing_id       date\n",
       "0     6987560 2015-06-29\n",
       "1     6987560 2015-10-12\n",
       "2     7652181 2015-08-17\n",
       "3     7652181 2015-10-25\n",
       "4     7652181 2015-10-30"
      ]
     },
     "execution_count": 31,
     "metadata": {},
     "output_type": "execute_result"
    }
   ],
   "source": [
    "Reviews = pd.read_csv('data/reviews.csv')\n",
    "print Reviews.date.min()\n",
    "print Reviews.date.max()\n",
    "\n",
    "Reviews.date = pd.to_datetime(Reviews.date)\n",
    "Reviews.head()"
   ]
  },
  {
   "cell_type": "code",
   "execution_count": 32,
   "metadata": {
    "collapsed": false
   },
   "outputs": [
    {
     "name": "stdout",
     "output_type": "stream",
     "text": [
      "listing_id   2015-01-10\n",
      "dtype: datetime64[ns]\n",
      "listing_id   2015-12-30\n",
      "dtype: datetime64[ns]\n"
     ]
    }
   ],
   "source": [
    "## Confining the reviews to year 2015 + \n",
    "\n",
    "Reviews.set_index('date',inplace=True)\n",
    "Reviews.sort(ascending=True,inplace=True)\n",
    "\n",
    "\n",
    "start = Reviews.index.searchsorted(dt.datetime(2015, 1, 1)) ; #print Reviews.ix[start]\n",
    "end   = Reviews.index.searchsorted(dt.datetime(2016, 1, 1)) ; #print Reviews.ix[end]\n",
    "\n",
    "Year_Reviews = Reviews.ix[start:end]\n",
    "\n",
    "print Year_Reviews.idxmin()\n",
    "print Year_Reviews.idxmax()\n",
    "\n"
   ]
  },
  {
   "cell_type": "code",
   "execution_count": 33,
   "metadata": {
    "collapsed": false
   },
   "outputs": [
    {
     "data": {
      "text/html": [
       "<div>\n",
       "<table border=\"1\" class=\"dataframe\">\n",
       "  <thead>\n",
       "    <tr style=\"text-align: right;\">\n",
       "      <th></th>\n",
       "      <th>reviews_per_month_period</th>\n",
       "    </tr>\n",
       "    <tr>\n",
       "      <th>listing_id</th>\n",
       "      <th></th>\n",
       "    </tr>\n",
       "  </thead>\n",
       "  <tbody>\n",
       "    <tr>\n",
       "      <th>2515</th>\n",
       "      <td>1.500000</td>\n",
       "    </tr>\n",
       "    <tr>\n",
       "      <th>2534</th>\n",
       "      <td>0.083333</td>\n",
       "    </tr>\n",
       "    <tr>\n",
       "      <th>2539</th>\n",
       "      <td>0.083333</td>\n",
       "    </tr>\n",
       "    <tr>\n",
       "      <th>2595</th>\n",
       "      <td>0.416667</td>\n",
       "    </tr>\n",
       "    <tr>\n",
       "      <th>3330</th>\n",
       "      <td>0.666667</td>\n",
       "    </tr>\n",
       "  </tbody>\n",
       "</table>\n",
       "</div>"
      ],
      "text/plain": [
       "            reviews_per_month_period\n",
       "listing_id                          \n",
       "2515                        1.500000\n",
       "2534                        0.083333\n",
       "2539                        0.083333\n",
       "2595                        0.416667\n",
       "3330                        0.666667"
      ]
     },
     "execution_count": 33,
     "metadata": {},
     "output_type": "execute_result"
    }
   ],
   "source": [
    "Year_Reviews['counter'] = 1\n",
    "reviews_in_period = Year_Reviews.groupby(['listing_id',pd.TimeGrouper('M')]).count()['counter']\n",
    "\n",
    "reviews_per_month_period = pd.DataFrame(reviews_in_period.unstack().fillna(0).mean(axis=1))\n",
    "reviews_per_month_period.columns = ['reviews_per_month_period']\n",
    "\n",
    "reviews_per_month_period.fillna(0,inplace = True)\n",
    "\n",
    "reviews_per_month_period.head()\n"
   ]
  },
  {
   "cell_type": "code",
   "execution_count": 34,
   "metadata": {
    "collapsed": false
   },
   "outputs": [],
   "source": [
    "joined = Listings.merge(reviews_per_month_period, left_on='id',right_index=True, how='left')\n",
    "\n",
    "joined.reviews_per_month_period.fillna(0,inplace=True)"
   ]
  },
  {
   "cell_type": "markdown",
   "metadata": {},
   "source": [
    "<h1> The Revenue Model </h1>\n",
    "\n",
    "I am using the InsideAirBnB \"San Francisco\" Revenue Model, found here http://insideairbnb.com/about.html\n",
    "\n",
    "Key Assumptions, shared with SF Model: \n",
    "    * The average stay is 3 nights\n",
    "    * Every other customer leaves a review i.e., review rate of 50%\n",
    "    * The occupancy rate is capped at 70% i.e., each AirBnB can be occupied a max of 21 days a month\n",
    "    \n",
    "Key Assumptions, **not** shared with SF Model: \n",
    "    * Throw out all listings with nightly price > 2500. This number is somewhat arbitrary but prices\n",
    "        higher than this do not seem believable for a 'nightly' rental, even for the most opulent apartment.\n",
    "        They may be long-term listings (2500 a month seems reasonable) that are being classified incorrectly \n",
    "        by the scraper. \n",
    "        \n",
    "\n",
    "    \n"
   ]
  },
  {
   "cell_type": "code",
   "execution_count": 35,
   "metadata": {
    "collapsed": false,
    "scrolled": true
   },
   "outputs": [
    {
     "data": {
      "text/plain": [
       "neighbourhood_group\n",
       "Bronx            5.096284\n",
       "Brooklyn         4.646566\n",
       "Manhattan        4.894646\n",
       "Queens           5.091754\n",
       "Staten Island    4.693853\n",
       "Name: occupancy_nights_month, dtype: float64"
      ]
     },
     "execution_count": 35,
     "metadata": {},
     "output_type": "execute_result"
    }
   ],
   "source": [
    "joined = joined[joined.last_review >= start]  ## keep reviews in period \n",
    "\n",
    "## filtering out listings with price > 2500, not scientifically based but that seems like a high limit for believable\n",
    "## listings\n",
    "joined = joined[joined.price < 2501]\n",
    "\n",
    "## 3 night avg stay, unless the minimum is higher\n",
    "joined['avg_stay_nights'] = np.where(joined.minimum_nights > 3, joined.minimum_nights, 3) \n",
    "\n",
    "\n",
    "review_rate = .5 # sourced from insideAirbnb, conservative estimate\n",
    "\n",
    "## capping occupany at 70% = 21 days\n",
    "joined['occupancy_nights_month'] = joined.reviews_per_month_period * (1/review_rate) * joined.avg_stay_nights\n",
    "\n",
    "\n",
    "joined['occupancy_nights_month'] = np.where(joined.occupancy_nights_month <= 21,joined.occupancy_nights_month,21 )\n",
    "\n",
    "joined['annual_revenue'] = joined.occupancy_nights_month * joined.price * 12\n",
    "\n",
    "joined.groupby('neighbourhood_group').mean()['occupancy_nights_month']"
   ]
  },
  {
   "cell_type": "markdown",
   "metadata": {},
   "source": [
    "<h2> Active Listings </h2>\n",
    "\n",
    "Just checking what percentage of listings actually have at least one review during 2015. "
   ]
  },
  {
   "cell_type": "code",
   "execution_count": 36,
   "metadata": {
    "collapsed": false,
    "scrolled": true
   },
   "outputs": [
    {
     "data": {
      "text/html": [
       "<div id=\"b75dc7d0-266e-4ef4-b558-dd122c7e5f24\" style=\"height: 587; width: 1116px;\" class=\"plotly-graph-div\"></div><script type=\"text/javascript\">require([\"plotly\"], function(Plotly) { window.PLOTLYENV=window.PLOTLYENV || {};window.PLOTLYENV.BASE_URL=\"https://plot.ly\";Plotly.newPlot(\"b75dc7d0-266e-4ef4-b558-dd122c7e5f24\", [{\"name\": false, \"text\": \"\", \"y\": [0.09121621621621621, 0.11262117468161946, 0.12298314808174973, 0.11448481831757093, 0.028368794326241134], \"marker\": {\"color\": \"rgba(255, 153, 51, 0.6)\", \"line\": {\"color\": \"rgba(255, 153, 51, 1.0)\", \"width\": 1}}, \"x\": [\"Bronx\", \"Brooklyn\", \"Manhattan\", \"Queens\", \"Staten Island\"], \"type\": \"bar\", \"orientation\": \"v\"}, {\"name\": true, \"text\": \"\", \"y\": [0.9087837837837838, 0.8873788253183805, 0.8770168519182503, 0.885515181682429, 0.9716312056737588], \"marker\": {\"color\": \"rgba(55, 128, 191, 0.6)\", \"line\": {\"color\": \"rgba(55, 128, 191, 1.0)\", \"width\": 1}}, \"x\": [\"Bronx\", \"Brooklyn\", \"Manhattan\", \"Queens\", \"Staten Island\"], \"type\": \"bar\", \"orientation\": \"v\"}], {\"title\": \"% of Listings Active in 2015\", \"paper_bgcolor\": \"#F5F6F9\", \"plot_bgcolor\": \"#F5F6F9\", \"xaxis1\": {\"tickfont\": {\"color\": \"#4D5663\"}, \"title\": \"\", \"showgrid\": true, \"zerolinecolor\": \"#E1E5ED\", \"gridcolor\": \"#E1E5ED\", \"titlefont\": {\"color\": \"#4D5663\"}}, \"height\": 587, \"yaxis1\": {\"tickfont\": {\"color\": \"#4D5663\"}, \"title\": \"\", \"showgrid\": true, \"zerolinecolor\": \"#E1E5ED\", \"gridcolor\": \"#E1E5ED\", \"titlefont\": {\"color\": \"#4D5663\"}}, \"width\": 1116, \"titlefont\": {\"color\": \"#4D5663\"}, \"barmode\": \"stack\", \"legend\": {\"bgcolor\": \"#F5F6F9\", \"font\": {\"color\": \"#4D5663\"}, \"traceorder\": \"normal\"}}, {\"linkText\": \"Export to plot.ly\", \"showLink\": true})});</script>"
      ],
      "text/plain": [
       "<IPython.core.display.HTML object>"
      ]
     },
     "metadata": {},
     "output_type": "display_data"
    }
   ],
   "source": [
    "joined['active_listings'] = joined.reviews_per_month_period.apply(lambda x: True if x > 0 else False)\n",
    "\n",
    "pct_active = joined.groupby(['neighbourhood_group','active_listings'])['id'].count().unstack() \\\n",
    "            .apply(lambda x: x/ x.sum(),axis=1)\n",
    "    \n",
    "pct_active.iplot(kind='bar',barmode='stack',title='% of Listings Active in 2015')"
   ]
  },
  {
   "cell_type": "code",
   "execution_count": 39,
   "metadata": {
    "collapsed": false
   },
   "outputs": [],
   "source": [
    "## Supporting functions for visualization\n",
    "\n",
    "def CountListings(pivot):\n",
    "    return len(pivot) - pivot.isnull().sum()\n",
    "\n",
    "    \n",
    "def CreateMarketShare(df,col = 'neighbourhood_group' ,groupby='id', values = 'annual_revenue',filter_wholehome=True,filter_boro=False\\\n",
    "                    , normalize=True):\n",
    "    if filter_wholehome:\n",
    "        df = df[(df.room_type == 'Entire home/apt')]\n",
    "    if filter_boro:\n",
    "        df = df[(df.neighbourhood_group == filter_boro)]\n",
    "        \n",
    "    my_pivot = df.pivot_table(index=groupby,columns=col,values=values)\n",
    "    if normalize:\n",
    "        my_pivot = my_pivot.apply(lambda x: x/x.sum())\n",
    "    \n",
    "    print \"Number of Listings Counted: \"  \n",
    "    print CountListings(my_pivot)\n",
    "    return my_pivot\n",
    "\n",
    "\n",
    "def PlotlyCDF(df,y_title='% of Revenue', x_title=\"% of Listings\",chart_title='Whale Chart',use_matplot=False,just_data=False):\n",
    "    \n",
    "    data = [{\n",
    "        'x': df[col].dropna().index.value_counts(normalize=True).cumsum(),\n",
    "        'y': df[col].sort_values(ascending=False).cumsum().dropna(),\n",
    "        'name': col\n",
    "    }  for col in df.columns]\n",
    "    \n",
    "    if just_data:\n",
    "        return data\n",
    "   \n",
    "    ## default to matplotlib if not connected to internet like I am right now on this flight ':(\n",
    "    if use_matplot:\n",
    "        plt.legend(df.columns.values)\n",
    "        for d in data:\n",
    "            plt.plot(d['x'],d['y'])\n",
    "    \n",
    "    else:\n",
    "        layout=go.Layout(title= chart_title, xaxis={'title':x_title}, yaxis={'title': y_title})\n",
    "        fig = go.Figure(data=data, layout=layout)\n",
    "        iplot(fig)\n",
    "    \n"
   ]
  },
  {
   "cell_type": "markdown",
   "metadata": {},
   "source": [
    "<h1> Whale Charts! </h1>\n",
    "\n",
    "My functions are plotting a kind of Cumulative Distribution that I've heard referred to as a \"Whale Chart\". They plot the percentage of a total variable of interest e.g., AirBnB revenue in NYC that is captured by a percentage of unique listings. They serve as a way to visualize market structure; a whale chart that is very steep near the left side of the picture shows a market dominated by a few large actors. A more egalitarian market structure would have a gentler sloping whale chart. \n",
    "\n",
    "AirBnB in New York City seems to be highly reliant on a small percentage of listings that drive listings revenue -- and by extension -- revenue for AirBnB itself. A casual glance confirms the top 20% of listings in NYC disproportionately capture about 60% of the total revenue in the city. \n",
    "\n",
    "While there is nothing inherently suprising about some users being more active than others, this does provide a new lense under which to view AirBnB's claims about their service. AirBnB proudly states that most of their users have only one listing, and this appears to be true. However, the company's revenue is heavily dependent on a small percentage of listings that make a lot of money. How do you make a lot of money off of a single apartment? By renting it out a lot. Sort of like an illegal hotel...\n",
    "\n"
   ]
  },
  {
   "cell_type": "code",
   "execution_count": 41,
   "metadata": {
    "collapsed": false
   },
   "outputs": [],
   "source": [
    "by_boro = CreateMarketShare(joined,filter_wholehome=False)\n",
    "PlotlyCDF(by_boro,chart_title='Concentration of AirBnB Revenue (NYC)',use_matplot=False)"
   ]
  },
  {
   "cell_type": "code",
   "execution_count": null,
   "metadata": {
    "collapsed": false
   },
   "outputs": [],
   "source": [
    "by_host = CreateMarketShare(joined,filter_wholehome=True,groupby='host_id')\n",
    "PlotlyCDF(by_host,use_matplot=False,chart_title='Concentration of AirBnB Revenue by Host (NYC)',x_title='% of Hosts')"
   ]
  },
  {
   "cell_type": "code",
   "execution_count": null,
   "metadata": {
    "collapsed": false
   },
   "outputs": [],
   "source": [
    "scatter = joined[joined.neighbourhood_group=='Manhattan']\n",
    "\n",
    "scatter = scatter[scatter.annual_revenue < 50000]\n",
    "\n",
    "trace1 = go.Scattergl(\n",
    "    x = scatter[(scatter.room_type == 'Entire home/apt')].occupancy_nights_month,\n",
    "    y = scatter[(scatter.room_type == 'Entire home/apt')].annual_revenue,\n",
    "    mode = 'markers',\n",
    "    marker = dict(\n",
    "        color = 'FFBAD2',\n",
    "        line = dict(width = 1)\n",
    "    )\n",
    ")\n",
    "\n",
    "trace2 = go.Scattergl(\n",
    "    x = scatter[(scatter.room_type != 'Entire home/apt')].occupancy_nights_month,\n",
    "    y = scatter[(scatter.room_type != 'Entire home/apt')].annual_revenue,\n",
    "    mode = 'markers',\n",
    "    marker = dict(\n",
    "        color = 'FFBAD',\n",
    "        line = dict(width = 1)\n",
    "    )\n",
    ")\n",
    "\n",
    "data = [trace1,trace2]\n",
    "iplot(data)"
   ]
  },
  {
   "cell_type": "markdown",
   "metadata": {},
   "source": [
    "<h2> Neighborhood Level </h2>\n",
    "\n",
    "Now I'm going to plot some selected whale charts for neighborhoods in Brooklyn to look for trends."
   ]
  },
  {
   "cell_type": "code",
   "execution_count": null,
   "metadata": {
    "collapsed": false
   },
   "outputs": [],
   "source": [
    "\n",
    "BK = CreateMarketShare(joined,col='neighbourhood',filter_boro='Brooklyn')\n",
    "\n",
    "## limiting neighborhoods to places with > 30 listings \n",
    "count_bk = CountListings(BK) \n",
    "subset = count_bk[count_bk > 30].index"
   ]
  },
  {
   "cell_type": "code",
   "execution_count": null,
   "metadata": {
    "collapsed": false
   },
   "outputs": [],
   "source": [
    "PlotlyCDF(BK[subset],use_matplot=False, chart_title='Revenue By BK Neighborhood')"
   ]
  },
  {
   "cell_type": "markdown",
   "metadata": {},
   "source": [
    "<h1> To Be Continued </h1>\n",
    "\n",
    "This is a work in progress"
   ]
  }
 ],
 "metadata": {
  "kernelspec": {
   "display_name": "Python 2",
   "language": "python",
   "name": "python2"
  },
  "language_info": {
   "codemirror_mode": {
    "name": "ipython",
    "version": 2
   },
   "file_extension": ".py",
   "mimetype": "text/x-python",
   "name": "python",
   "nbconvert_exporter": "python",
   "pygments_lexer": "ipython2",
   "version": "2.7.11"
  }
 },
 "nbformat": 4,
 "nbformat_minor": 0
}
