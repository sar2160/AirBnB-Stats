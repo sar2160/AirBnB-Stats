{
 "cells": [
  {
   "cell_type": "code",
   "execution_count": 38,
   "metadata": {
    "collapsed": false
   },
   "outputs": [],
   "source": [
    "import pandas as pd\n",
    "import datetime as dt\n",
    "import numpy as np\n",
    "import matplotlib.pyplot as plt\n",
    "\n",
    "%matplotlib inline"
   ]
  },
  {
   "cell_type": "markdown",
   "metadata": {},
   "source": [
    "All data is a static snapshot sourced from insideairbnb.com "
   ]
  },
  {
   "cell_type": "code",
   "execution_count": 39,
   "metadata": {
    "collapsed": false
   },
   "outputs": [
    {
     "data": {
      "text/html": [
       "<div>\n",
       "<table border=\"1\" class=\"dataframe\">\n",
       "  <thead>\n",
       "    <tr style=\"text-align: right;\">\n",
       "      <th></th>\n",
       "      <th>id</th>\n",
       "      <th>name</th>\n",
       "      <th>host_id</th>\n",
       "      <th>host_name</th>\n",
       "      <th>neighbourhood_group</th>\n",
       "      <th>neighbourhood</th>\n",
       "      <th>latitude</th>\n",
       "      <th>longitude</th>\n",
       "      <th>room_type</th>\n",
       "      <th>price</th>\n",
       "      <th>minimum_nights</th>\n",
       "      <th>number_of_reviews</th>\n",
       "      <th>last_review</th>\n",
       "      <th>reviews_per_month</th>\n",
       "      <th>calculated_host_listings_count</th>\n",
       "      <th>availability_365</th>\n",
       "    </tr>\n",
       "  </thead>\n",
       "  <tbody>\n",
       "    <tr>\n",
       "      <th>0</th>\n",
       "      <td>3943387</td>\n",
       "      <td>Cozy City Island Room/Private Bath</td>\n",
       "      <td>20433973</td>\n",
       "      <td>Julia</td>\n",
       "      <td>Bronx</td>\n",
       "      <td>City Island</td>\n",
       "      <td>40.839396</td>\n",
       "      <td>-73.781437</td>\n",
       "      <td>Private room</td>\n",
       "      <td>65</td>\n",
       "      <td>1</td>\n",
       "      <td>6</td>\n",
       "      <td>2015-07-13</td>\n",
       "      <td>0.61</td>\n",
       "      <td>1</td>\n",
       "      <td>341</td>\n",
       "    </tr>\n",
       "    <tr>\n",
       "      <th>1</th>\n",
       "      <td>8013644</td>\n",
       "      <td>Cottage by the Bay</td>\n",
       "      <td>40787449</td>\n",
       "      <td>Mary Jo</td>\n",
       "      <td>Bronx</td>\n",
       "      <td>City Island</td>\n",
       "      <td>40.847890</td>\n",
       "      <td>-73.789932</td>\n",
       "      <td>Private room</td>\n",
       "      <td>75</td>\n",
       "      <td>1</td>\n",
       "      <td>0</td>\n",
       "      <td>NaN</td>\n",
       "      <td>NaN</td>\n",
       "      <td>1</td>\n",
       "      <td>352</td>\n",
       "    </tr>\n",
       "    <tr>\n",
       "      <th>2</th>\n",
       "      <td>4622922</td>\n",
       "      <td>Waterfront 1 Bedroom in City Island</td>\n",
       "      <td>23943777</td>\n",
       "      <td>Marita</td>\n",
       "      <td>Bronx</td>\n",
       "      <td>City Island</td>\n",
       "      <td>40.852289</td>\n",
       "      <td>-73.787665</td>\n",
       "      <td>Entire home/apt</td>\n",
       "      <td>115</td>\n",
       "      <td>3</td>\n",
       "      <td>0</td>\n",
       "      <td>NaN</td>\n",
       "      <td>NaN</td>\n",
       "      <td>1</td>\n",
       "      <td>243</td>\n",
       "    </tr>\n",
       "    <tr>\n",
       "      <th>3</th>\n",
       "      <td>958444</td>\n",
       "      <td>Great 1BD waterfront City Island NY</td>\n",
       "      <td>5214644</td>\n",
       "      <td>Noelva</td>\n",
       "      <td>Bronx</td>\n",
       "      <td>City Island</td>\n",
       "      <td>40.852350</td>\n",
       "      <td>-73.788728</td>\n",
       "      <td>Entire home/apt</td>\n",
       "      <td>93</td>\n",
       "      <td>3</td>\n",
       "      <td>33</td>\n",
       "      <td>2015-08-15</td>\n",
       "      <td>1.24</td>\n",
       "      <td>1</td>\n",
       "      <td>298</td>\n",
       "    </tr>\n",
       "    <tr>\n",
       "      <th>4</th>\n",
       "      <td>1886820</td>\n",
       "      <td>Quaint City Island Community.</td>\n",
       "      <td>9815788</td>\n",
       "      <td>Steve</td>\n",
       "      <td>Bronx</td>\n",
       "      <td>City Island</td>\n",
       "      <td>40.841144</td>\n",
       "      <td>-73.783052</td>\n",
       "      <td>Entire home/apt</td>\n",
       "      <td>300</td>\n",
       "      <td>7</td>\n",
       "      <td>0</td>\n",
       "      <td>NaN</td>\n",
       "      <td>NaN</td>\n",
       "      <td>1</td>\n",
       "      <td>271</td>\n",
       "    </tr>\n",
       "  </tbody>\n",
       "</table>\n",
       "</div>"
      ],
      "text/plain": [
       "        id                                 name   host_id host_name  \\\n",
       "0  3943387   Cozy City Island Room/Private Bath  20433973     Julia   \n",
       "1  8013644                   Cottage by the Bay  40787449   Mary Jo   \n",
       "2  4622922  Waterfront 1 Bedroom in City Island  23943777    Marita   \n",
       "3   958444  Great 1BD waterfront City Island NY   5214644    Noelva   \n",
       "4  1886820       Quaint City Island Community.    9815788     Steve   \n",
       "\n",
       "  neighbourhood_group neighbourhood   latitude  longitude        room_type  \\\n",
       "0               Bronx   City Island  40.839396 -73.781437     Private room   \n",
       "1               Bronx   City Island  40.847890 -73.789932     Private room   \n",
       "2               Bronx   City Island  40.852289 -73.787665  Entire home/apt   \n",
       "3               Bronx   City Island  40.852350 -73.788728  Entire home/apt   \n",
       "4               Bronx   City Island  40.841144 -73.783052  Entire home/apt   \n",
       "\n",
       "   price  minimum_nights  number_of_reviews last_review  reviews_per_month  \\\n",
       "0     65               1                  6  2015-07-13               0.61   \n",
       "1     75               1                  0         NaN                NaN   \n",
       "2    115               3                  0         NaN                NaN   \n",
       "3     93               3                 33  2015-08-15               1.24   \n",
       "4    300               7                  0         NaN                NaN   \n",
       "\n",
       "   calculated_host_listings_count  availability_365  \n",
       "0                               1               341  \n",
       "1                               1               352  \n",
       "2                               1               243  \n",
       "3                               1               298  \n",
       "4                               1               271  "
      ]
     },
     "execution_count": 39,
     "metadata": {},
     "output_type": "execute_result"
    }
   ],
   "source": [
    "Listings = pd.read_csv('data/listings.csv')\n",
    "Listings.head()"
   ]
  },
  {
   "cell_type": "code",
   "execution_count": 40,
   "metadata": {
    "collapsed": false
   },
   "outputs": [
    {
     "name": "stdout",
     "output_type": "stream",
     "text": [
      "2008-10-06\n",
      "2015-09-02\n"
     ]
    },
    {
     "data": {
      "text/html": [
       "<div>\n",
       "<table border=\"1\" class=\"dataframe\">\n",
       "  <thead>\n",
       "    <tr style=\"text-align: right;\">\n",
       "      <th></th>\n",
       "      <th>listing_id</th>\n",
       "      <th>date</th>\n",
       "    </tr>\n",
       "  </thead>\n",
       "  <tbody>\n",
       "    <tr>\n",
       "      <th>0</th>\n",
       "      <td>4947015</td>\n",
       "      <td>2015-03-01</td>\n",
       "    </tr>\n",
       "    <tr>\n",
       "      <th>1</th>\n",
       "      <td>6702426</td>\n",
       "      <td>2015-06-28</td>\n",
       "    </tr>\n",
       "    <tr>\n",
       "      <th>2</th>\n",
       "      <td>6702426</td>\n",
       "      <td>2015-07-14</td>\n",
       "    </tr>\n",
       "    <tr>\n",
       "      <th>3</th>\n",
       "      <td>7024618</td>\n",
       "      <td>2015-08-20</td>\n",
       "    </tr>\n",
       "    <tr>\n",
       "      <th>4</th>\n",
       "      <td>6078066</td>\n",
       "      <td>2015-05-24</td>\n",
       "    </tr>\n",
       "  </tbody>\n",
       "</table>\n",
       "</div>"
      ],
      "text/plain": [
       "   listing_id       date\n",
       "0     4947015 2015-03-01\n",
       "1     6702426 2015-06-28\n",
       "2     6702426 2015-07-14\n",
       "3     7024618 2015-08-20\n",
       "4     6078066 2015-05-24"
      ]
     },
     "execution_count": 40,
     "metadata": {},
     "output_type": "execute_result"
    }
   ],
   "source": [
    "Reviews = pd.read_csv('data/reviews.csv')\n",
    "print Reviews.date.min()\n",
    "print Reviews.date.max()\n",
    "\n",
    "Reviews.date = pd.to_datetime(Reviews.date)\n",
    "Reviews.head()"
   ]
  },
  {
   "cell_type": "code",
   "execution_count": 41,
   "metadata": {
    "collapsed": false
   },
   "outputs": [
    {
     "name": "stdout",
     "output_type": "stream",
     "text": [
      "listing_id   2014-11-03\n",
      "dtype: datetime64[ns]\n",
      "listing_id   2015-08-31\n",
      "dtype: datetime64[ns]\n"
     ]
    },
    {
     "name": "stderr",
     "output_type": "stream",
     "text": [
      "/anaconda/lib/python2.7/site-packages/ipykernel/__main__.py:2: FutureWarning: sort(....) is deprecated, use sort_index(.....)\n",
      "  from ipykernel import kernelapp as app\n"
     ]
    }
   ],
   "source": [
    "Reviews.set_index('date',inplace=True)\n",
    "Reviews.sort(ascending=True,inplace=True)\n",
    "start = Reviews.index.searchsorted(dt.datetime(2014, 11, 1)) ; #print Reviews.ix[start]\n",
    "end   = Reviews.index.searchsorted(dt.datetime(2015, 11, 1)) ; #print Reviews.ix[end]\n",
    "\n",
    "Year_Reviews = Reviews.ix[start:end]\n",
    "\n",
    "print Year_Reviews.idxmin()\n",
    "print Year_Reviews.idxmax()\n",
    "\n",
    "Year_Reviews.reset_index(inplace=True)"
   ]
  },
  {
   "cell_type": "code",
   "execution_count": 42,
   "metadata": {
    "collapsed": false
   },
   "outputs": [],
   "source": [
    "reviews_in_period = Year_Reviews.groupby('listing_id').count()  # only 9 months of data\n",
    "reviews_in_period.columns = ['reviews_in_period']\n",
    "\n",
    "joined = Listings.merge(reviews_in_period, left_on='id',right_index=True, how='left')\n",
    "\n",
    "\n",
    "joined['review_per_month_period'] = joined.reviews_in_period / 9 # only 9 months of data"
   ]
  },
  {
   "cell_type": "code",
   "execution_count": 43,
   "metadata": {
    "collapsed": false
   },
   "outputs": [
    {
     "data": {
      "text/plain": [
       "neighbourhood_group\n",
       "Bronx             838.742857\n",
       "Brooklyn         1359.510143\n",
       "Manhattan        2117.525617\n",
       "Queens           1099.268902\n",
       "Staten Island    1131.914894\n",
       "Name: annual_revenue, dtype: float64"
      ]
     },
     "execution_count": 43,
     "metadata": {},
     "output_type": "execute_result"
    }
   ],
   "source": [
    "joined['annual_revenue'] = joined.review_per_month_period * joined.price * 12\n",
    "joined.groupby('neighbourhood_group').mean()['annual_revenue'] "
   ]
  },
  {
   "cell_type": "code",
   "execution_count": 52,
   "metadata": {
    "collapsed": false
   },
   "outputs": [],
   "source": [
    "def GetIncomeDist(df,Boro,whole_home=False):\n",
    "    if whole_home:\n",
    "        df = df[(df.neighbourhood_group == Boro ) &  (df.room_type == 'Entire home/apt')]\n",
    "    else:\n",
    "        df = df[df.neighbourhood_group == Boro]\n",
    "    df['IncomeDist'] = (df.annual_revenue / df.annual_revenue.sum())\n",
    "    df.sort('IncomeDist',ascending=False,inplace=True)\n",
    "\n",
    "    df['IncomeSum']  = df.IncomeDist.cumsum()\n",
    "\n",
    "    #df['IncomeDist'].sort(inplace=True)\n",
    "    return df\n",
    "\n",
    "\n",
    "def PlotCDF(df,x_label='% of AirBnB Listings',y_label='% of total revenue'):\n",
    "    plotter = df[['IncomeSum']].reset_index()\n",
    "    plotter['counter']   = plotter.index.value_counts(normalize=True)\n",
    "    plotter.drop('index',axis=1,inplace=True)\n",
    "    plotter['index'] = plotter.counter.cumsum()\n",
    "    plotter.set_index('index',inplace=True)\n",
    "    myplot = plotter.IncomeSum.plot()\n",
    "    plt.xlabel(x_label)\n",
    "    plt.ylabel(y_label)\n",
    "    "
   ]
  },
  {
   "cell_type": "markdown",
   "metadata": {},
   "source": [
    "My functions are plotting a kind of Cumulative Distribution that I've heard referred to as a \"Whale Chart\". They plot the percentage of a total variable of interest e.g., AirBnB revenue in NYC that is captured by a percentage of unique listings. They serve as a way to visualize market structure; a whale chart that is very steep near the left side of the picture shows a market dominated by a few large actors. A more egalitarian market structure would have a gentler sloping whale chart. "
   ]
  },
  {
   "cell_type": "code",
   "execution_count": 56,
   "metadata": {
    "collapsed": false
   },
   "outputs": [
    {
     "name": "stderr",
     "output_type": "stream",
     "text": [
      "/anaconda/lib/python2.7/site-packages/ipykernel/__main__.py:6: SettingWithCopyWarning: \n",
      "A value is trying to be set on a copy of a slice from a DataFrame.\n",
      "Try using .loc[row_indexer,col_indexer] = value instead\n",
      "\n",
      "See the caveats in the documentation: http://pandas.pydata.org/pandas-docs/stable/indexing.html#indexing-view-versus-copy\n",
      "/anaconda/lib/python2.7/site-packages/ipykernel/__main__.py:7: FutureWarning: sort(columns=....) is deprecated, use sort_values(by=.....)\n",
      "/anaconda/lib/python2.7/site-packages/ipykernel/__main__.py:9: SettingWithCopyWarning: \n",
      "A value is trying to be set on a copy of a slice from a DataFrame.\n",
      "Try using .loc[row_indexer,col_indexer] = value instead\n",
      "\n",
      "See the caveats in the documentation: http://pandas.pydata.org/pandas-docs/stable/indexing.html#indexing-view-versus-copy\n"
     ]
    },
    {
     "data": {
      "image/png": "[encoded data removed]",
      "text/plain": [
       "<matplotlib.figure.Figure at 0x10927f290>"
      ]
     },
     "metadata": {},
     "output_type": "display_data"
    }
   ],
   "source": [
    "## Let's see who captures annual AiRBnB revenue in NYC. It looks like 20% of landlords capture almost 60% of revenue. \n",
    "\n",
    "test = GetIncomeDist(joined.dropna(subset=['annual_revenue']),'Bronx',whole_home=True)\n",
    "PlotCDF(test,y_label='% of Annual Revenue')"
   ]
  },
  {
   "cell_type": "code",
   "execution_count": 60,
   "metadata": {
    "collapsed": false
   },
   "outputs": [
    {
     "name": "stderr",
     "output_type": "stream",
     "text": [
      "/anaconda/lib/python2.7/site-packages/ipykernel/__main__.py:4: FutureWarning: sort(....) is deprecated, use sort_index(.....)\n"
     ]
    },
    {
     "data": {
      "text/plain": [
       "(0, 1)"
      ]
     },
     "execution_count": 60,
     "metadata": {},
     "output_type": "execute_result"
    },
    {
     "data": {
      "image/png": "[encoded data removed]",
      "text/plain": [
       "<matplotlib.figure.Figure at 0x10b2013d0>"
      ]
     },
     "metadata": {},
     "output_type": "display_data"
    }
   ],
   "source": [
    "## Let's see what % of listings are available throughout the year, it looks like 80% of listings are available at least\n",
    "## 300+ days\n",
    "\n",
    "by_avail = test.reset_index().set_index('availability_365').sort(ascending=False)\n",
    "by_avail['IncomeSumByAvail'] = by_avail.IncomeDist.cumsum()\n",
    "\n",
    "by_avail['IncomeSumByAvail'].plot()\n",
    "\n",
    "plt.ylabel('% of AirBnB Listings')\n",
    "plt.ylim([0,1])"
   ]
  },
  {
   "cell_type": "code",
   "execution_count": 47,
   "metadata": {
    "collapsed": false
   },
   "outputs": [
    {
     "data": {
      "text/plain": [
       "True"
      ]
     },
     "execution_count": 47,
     "metadata": {},
     "output_type": "execute_result"
    }
   ],
   "source": [
    "## my plots looked like they weren't increasing monotonically, which would be nonsensical , so I'm checking\n",
    "## this \n",
    "\n",
    "def monotonic(x):\n",
    "    return np.all(np.diff(x) > 0)\n",
    "\n",
    "monotonic(by_avail['IncomeSumByAvail'].values)"
   ]
  }
 ],
 "metadata": {
  "kernelspec": {
   "display_name": "Python 2",
   "language": "python",
   "name": "python2"
  },
  "language_info": {
   "codemirror_mode": {
    "name": "ipython",
    "version": 2
   },
   "file_extension": ".py",
   "mimetype": "text/x-python",
   "name": "python",
   "nbconvert_exporter": "python",
   "pygments_lexer": "ipython2",
   "version": "2.7.11"
  }
 },
 "nbformat": 4,
 "nbformat_minor": 0
}
